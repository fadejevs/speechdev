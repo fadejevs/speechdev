{
 "cells": [
  {
   "cell_type": "code",
   "execution_count": 4,
   "id": "a4bf7683",
   "metadata": {},
   "outputs": [],
   "source": [
    "from utils.video_processing import download_audio_and_subs, parse_srt_to_json, save_transcript"
   ]
  },
  {
   "cell_type": "markdown",
   "id": "780ddd12",
   "metadata": {},
   "source": [
    "Latvian YT videos"
   ]
  },
  {
   "cell_type": "code",
   "execution_count": null,
   "id": "518552c8",
   "metadata": {},
   "outputs": [],
   "source": [
    "url = \"https://www.youtube.com/watch?v=wb6lWvwZin8\"\n",
    "start_time = \"0:52:11.0\"\n",
    "end_time   = \"0:53:03.0\"\n",
    "lang = \"lv\""
   ]
  },
  {
   "cell_type": "code",
   "execution_count": null,
   "id": "76c6ed89",
   "metadata": {},
   "outputs": [],
   "source": [
    "url = \"https://www.youtube.com/watch?v=IH3AZzxdifA\"\n",
    "start_time = \"0:0:29.8\" \n",
    "end_time   = \"0:0:54.0\"\n",
    "lang = \"lv\""
   ]
  },
  {
   "cell_type": "code",
   "execution_count": 15,
   "id": "4d92f487",
   "metadata": {},
   "outputs": [],
   "source": [
    "url = \"https://www.youtube.com/watch?v=NUhP-UQ35h8\"\n",
    "start_time = \"0:0:27.0\"\n",
    "end_time   = \"0:0:48.0\"\n",
    "lang = \"lv\""
   ]
  },
  {
   "cell_type": "code",
   "execution_count": 31,
   "id": "3fb68600",
   "metadata": {},
   "outputs": [],
   "source": [
    "url = \"https://www.youtube.com/watch?v=2EsiR0a1qys\"\n",
    "start_time = \"0:0:34.0\"\n",
    "end_time   = \"0:1:11.0\"\n",
    "lang = \"lv\""
   ]
  },
  {
   "cell_type": "code",
   "execution_count": 38,
   "id": "f0943738",
   "metadata": {},
   "outputs": [],
   "source": [
    "url = \"https://www.youtube.com/watch?v=mx8tT5SDe-0\"\n",
    "start_time = \"0:0:04.0\"\n",
    "end_time   = \"0:0:52.0\"\n",
    "lang = \"lv\""
   ]
  },
  {
   "cell_type": "markdown",
   "id": "19171091",
   "metadata": {},
   "source": [
    "English videos"
   ]
  },
  {
   "cell_type": "code",
   "execution_count": 45,
   "id": "deedaa1f",
   "metadata": {},
   "outputs": [],
   "source": [
    "url = \"https://www.youtube.com/watch?v=FU_0NF_jrgE\"\n",
    "start_time = \"0:0:09.0\"\n",
    "end_time   = \"0:0:41.0\"\n",
    "lang = \"en\""
   ]
  },
  {
   "cell_type": "code",
   "execution_count": 7,
   "id": "01f028c8",
   "metadata": {},
   "outputs": [],
   "source": [
    "url = \"https://www.youtube.com/watch?v=dd8-zjY4HEg\"\n",
    "start_time = \"0:0:11.0\"\n",
    "end_time   = \"0:0:40.0\"\n",
    "lang = \"en-6AFV7OuUDIk\""
   ]
  },
  {
   "cell_type": "code",
   "execution_count": 17,
   "id": "b79928ac",
   "metadata": {},
   "outputs": [],
   "source": [
    "url = \"https://www.youtube.com/watch?v=ka6_3TJcCkA\"\n",
    "start_time = \"0:0:0.0\"\n",
    "end_time   = \"0:0:45.0\"\n",
    "lang = \"en\""
   ]
  },
  {
   "cell_type": "code",
   "execution_count": null,
   "id": "ca7161a8",
   "metadata": {},
   "outputs": [],
   "source": [
    "url = \"https://www.youtube.com/watch?v=iHzzSao6ypE\"\n",
    "start_time = \"0:0:0.0\"\n",
    "end_time   = \"0:0:40.0\"\n",
    "lang = \"en\""
   ]
  },
  {
   "cell_type": "code",
   "execution_count": 51,
   "id": "4d738b95",
   "metadata": {},
   "outputs": [],
   "source": [
    "url = \"https://www.youtube.com/watch?v=8k-Lf6YwDLw\"\n",
    "start_time = \"0:0:06.0\"\n",
    "end_time   = \"0:0:42.0\"\n",
    "lang = \"en-GB\""
   ]
  },
  {
   "cell_type": "markdown",
   "id": "7af7ff4f",
   "metadata": {},
   "source": [
    "Lithuanian videos\n"
   ]
  },
  {
   "cell_type": "code",
   "execution_count": 61,
   "id": "2d1c18b3",
   "metadata": {},
   "outputs": [],
   "source": [
    "url = \"https://www.youtube.com/watch?v=ATyEwvlb3ns\"\n",
    "start_time = \"0:0:07.0\"\n",
    "end_time   = \"0:0:35.0\"\n",
    "lang = \"lt\""
   ]
  },
  {
   "cell_type": "code",
   "execution_count": 66,
   "id": "174c273e",
   "metadata": {},
   "outputs": [],
   "source": [
    "url = \"https://www.youtube.com/watch?v=JiwFViK6Bng\"\n",
    "start_time = \"0:0:20.0\"\n",
    "end_time   = \"0:1:03.0\"\n",
    "lang = \"lt\""
   ]
  },
  {
   "cell_type": "code",
   "execution_count": 77,
   "id": "a48f9793",
   "metadata": {},
   "outputs": [],
   "source": [
    "url = \"https://www.youtube.com/watch?v=2UhDIn_qtiI\"\n",
    "start_time = \"0:0:20.0\"\n",
    "end_time   = \"0:0:58.0\"\n",
    "lang = \"lt\""
   ]
  },
  {
   "cell_type": "code",
   "execution_count": 87,
   "id": "61a98d9f",
   "metadata": {},
   "outputs": [],
   "source": [
    "url = \"https://www.youtube.com/watch?v=6DGOt_YFBsg\"\n",
    "start_time = \"0:0:12.0\"\n",
    "end_time   = \"0:1:08.0\"\n",
    "lang = \"lt\""
   ]
  },
  {
   "cell_type": "code",
   "execution_count": 97,
   "id": "d47b3798",
   "metadata": {},
   "outputs": [],
   "source": [
    "url = \"https://www.youtube.com/watch?v=7sPJME5gCI0\"\n",
    "start_time = \"0:3:33.0\"\n",
    "end_time   = \"0:4:12.0\"\n",
    "lang = \"lt\""
   ]
  },
  {
   "cell_type": "markdown",
   "id": "4c16a456",
   "metadata": {},
   "source": [
    "Estonian"
   ]
  },
  {
   "cell_type": "code",
   "execution_count": 27,
   "id": "fa492dd0",
   "metadata": {},
   "outputs": [],
   "source": [
    "url = \"https://www.youtube.com/watch?v=Jk0tks4n_Wo\"\n",
    "start_time = \"0:0:18.0\"\n",
    "end_time   = \"0:1:10.0\"\n",
    "lang = \"et\""
   ]
  },
  {
   "cell_type": "code",
   "execution_count": 36,
   "id": "24bd1e86",
   "metadata": {},
   "outputs": [],
   "source": [
    "url = \"https://www.youtube.com/watch?v=JCW1aWp6JVg\"\n",
    "start_time = \"0:0:49.0\"\n",
    "end_time   = \"0:1:22.0\"\n",
    "lang = \"et\""
   ]
  },
  {
   "cell_type": "code",
   "execution_count": 46,
   "id": "f12d366a",
   "metadata": {},
   "outputs": [],
   "source": [
    "url = \"https://www.youtube.com/watch?v=y-228BSwZMA\"\n",
    "start_time = \"0:0:21.0\"\n",
    "end_time   = \"0:1:11.0\"\n",
    "lang = \"et\""
   ]
  },
  {
   "cell_type": "code",
   "execution_count": 66,
   "id": "811433c9",
   "metadata": {},
   "outputs": [],
   "source": [
    "url = \"https://www.youtube.com/watch?v=ZLvw-QYjBxA\"\n",
    "start_time = \"0:3:18.0\"\n",
    "end_time   = \"0:4:00.0\"\n",
    "lang = \"et\""
   ]
  },
  {
   "cell_type": "code",
   "execution_count": null,
   "id": "d571abe4",
   "metadata": {},
   "outputs": [],
   "source": [
    "url = \"https://www.youtube.com/watch?v=Z0KglfK3XZ0\"\n",
    "start_time = \"0:0:59.0\"\n",
    "end_time   = \"0:1:36.0\"\n",
    "lang = \"et\""
   ]
  },
  {
   "cell_type": "markdown",
   "id": "4f541289",
   "metadata": {},
   "source": [
    "German"
   ]
  },
  {
   "cell_type": "code",
   "execution_count": 81,
   "id": "42cfc897",
   "metadata": {},
   "outputs": [],
   "source": [
    "url = \"https://www.youtube.com/watch?v=3GeIaNDGgsw\"\n",
    "start_time = \"0:0:10.0\"\n",
    "end_time   = \"0:0:54.0\"\n",
    "lang = \"de\""
   ]
  },
  {
   "cell_type": "code",
   "execution_count": 97,
   "id": "5fec39d6",
   "metadata": {},
   "outputs": [],
   "source": [
    "url = \"https://www.youtube.com/watch?v=Q0Yu7flRQG8\"\n",
    "start_time = \"0:4:09.0\"\n",
    "end_time   = \"0:5:07.0\"\n",
    "lang = \"de-jwyiGF9oSqQ\""
   ]
  },
  {
   "cell_type": "code",
   "execution_count": 103,
   "id": "f673cc9a",
   "metadata": {},
   "outputs": [],
   "source": [
    "url = \"https://www.youtube.com/watch?v=M1gR2C-8Xb8\"\n",
    "start_time = \"0:0:42.0\"\n",
    "end_time   = \"0:1:39.0\"\n",
    "lang = \"de\""
   ]
  },
  {
   "cell_type": "code",
   "execution_count": 118,
   "id": "3b23d555",
   "metadata": {},
   "outputs": [],
   "source": [
    "url = \"https://www.youtube.com/watch?v=3IpcM5gqRM4\"\n",
    "start_time = \"0:2:07.0\"\n",
    "end_time   = \"0:2:51.0\"\n",
    "lang = \"de-CcQ45jRV4-E\""
   ]
  },
  {
   "cell_type": "code",
   "execution_count": 127,
   "id": "a0272d98",
   "metadata": {},
   "outputs": [],
   "source": [
    "url = \"https://www.youtube.com/watch?v=pM9MTchpW1k\"\n",
    "start_time = \"0:0:18.0\"\n",
    "end_time   = \"0:1:00.0\"\n",
    "lang = \"de-CcQ45jRV4-E\""
   ]
  },
  {
   "cell_type": "code",
   "execution_count": 128,
   "id": "9752cbc4",
   "metadata": {},
   "outputs": [],
   "source": [
    "wav_path, srt_path, file_id = download_audio_and_subs(url, start_time, end_time, lang=lang)"
   ]
  },
  {
   "cell_type": "code",
   "execution_count": 131,
   "id": "1571e014",
   "metadata": {},
   "outputs": [
    {
     "data": {
      "text/plain": [
       "'de-CcQ45jRV4-E_pM9MTchpW1k_0-0-18.0-0-1-00.0'"
      ]
     },
     "execution_count": 131,
     "metadata": {},
     "output_type": "execute_result"
    }
   ],
   "source": [
    "file_id"
   ]
  },
  {
   "cell_type": "code",
   "execution_count": 132,
   "id": "aded7ea3",
   "metadata": {},
   "outputs": [],
   "source": [
    "json_output = parse_srt_to_json(srt_path, wav_path, lang=lang)"
   ]
  },
  {
   "cell_type": "code",
   "execution_count": 133,
   "id": "f7c2962a",
   "metadata": {},
   "outputs": [
    {
     "name": "stdout",
     "output_type": "stream",
     "text": [
      "Saved JSON transcript to processed_data\\de-CcQ45jRV4-E_pM9MTchpW1k_0-0-18.0-0-1-00.0.json\n",
      "Saved plain text transcript to processed_data\\de-CcQ45jRV4-E_pM9MTchpW1k_0-0-18.0-0-1-00.0.txt\n",
      "Saved JSON transcript to raw_data\\de-CcQ45jRV4-E_pM9MTchpW1k_0-0-18.0-0-1-00.0_FULL.json\n",
      "Saved plain text transcript to raw_data\\de-CcQ45jRV4-E_pM9MTchpW1k_0-0-18.0-0-1-00.0_FULL.txt\n"
     ]
    }
   ],
   "source": [
    "save_transcript(json_output, start_time, end_time, file_id=file_id, raw_output_dir=\"raw_data\", final_output_dir=\"processed_data\")"
   ]
  },
  {
   "cell_type": "code",
   "execution_count": null,
   "id": "def6ac48",
   "metadata": {},
   "outputs": [],
   "source": []
  },
  {
   "cell_type": "code",
   "execution_count": null,
   "id": "e940a8f7",
   "metadata": {},
   "outputs": [],
   "source": []
  }
 ],
 "metadata": {
  "kernelspec": {
   "display_name": "asr-test-2",
   "language": "python",
   "name": "python3"
  },
  "language_info": {
   "codemirror_mode": {
    "name": "ipython",
    "version": 3
   },
   "file_extension": ".py",
   "mimetype": "text/x-python",
   "name": "python",
   "nbconvert_exporter": "python",
   "pygments_lexer": "ipython3",
   "version": "3.12.11"
  }
 },
 "nbformat": 4,
 "nbformat_minor": 5
}
